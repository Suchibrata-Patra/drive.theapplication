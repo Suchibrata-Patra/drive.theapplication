{
  "nbformat": 4,
  "nbformat_minor": 0,
  "metadata": {
    "colab": {
      "private_outputs": true,
      "provenance": []
    },
    "kernelspec": {
      "name": "ir",
      "display_name": "R"
    },
    "language_info": {
      "name": "R"
    }
  },
  "cells": [
    {
      "cell_type": "markdown",
      "source": [
        "## Mossaic Plot"
      ],
      "metadata": {
        "id": "E9zGh2_jC2cu"
      }
    },
    {
      "cell_type": "code",
      "execution_count": null,
      "metadata": {
        "id": "KwD8FBnQCawc"
      },
      "outputs": [],
      "source": [
        "#install.packages('vcd')\n",
        "library(vcd)\n",
        "mosaic(HairEyeColor,main = \"Mosiac Plot of HairEyeColor Data\",highlighting = \"Sex\",highlighting_fill = c('grey','grey80'),direction = c('v','h','v'),pop = FALSE)\n",
        "labs = round(prop.table(HairEyeColor),3)\n",
        "labeling_cells(text = labs,margin = 0)(HairEyeColor)\n",
        "# If we wanna do the classififcation in any specific order i.e Eye color then Hair Color then Sex\n",
        "# mosaic(~Eye+Hair+Sex,data=HairEyeColor,main=\"Mosiac Plot of HairEyeColor Data\",highlighting = \"Sex\",highlighting_fill = c('red','blue'),direction = c('v','h','v'))"
      ]
    },
    {
      "cell_type": "markdown",
      "source": [
        "## Interpretation\n"
      ],
      "metadata": {
        "id": "7kd6CpGyGk2O"
      }
    },
    {
      "cell_type": "markdown",
      "source": [
        "#### Mosaic Plot For Titanic Dataset"
      ],
      "metadata": {
        "id": "19wFKLMiG8JX"
      }
    },
    {
      "cell_type": "code",
      "source": [
        "install.packages('vcdExtra')"
      ],
      "metadata": {
        "id": "e6jP1I5N4vVn"
      },
      "execution_count": null,
      "outputs": []
    },
    {
      "cell_type": "code",
      "source": [
        "str(Titanic)"
      ],
      "metadata": {
        "id": "x9Tbh6lc5Kup"
      },
      "execution_count": null,
      "outputs": []
    },
    {
      "cell_type": "code",
      "source": [
        "install.packages('vcd')\n",
        "library(vcd)\n",
        "\n",
        "# Load Titanic dataset\n",
        "data(\"Titanic\")\n",
        "titanic_df <- as.data.frame(Titanic)\n",
        "\n",
        "# Convert Titanic data to a contingency table format\n",
        "titanic_table <- xtabs(Freq ~ Sex + Class + Survived, data = titanic_df)\n",
        "\n",
        "# Create the Mosaic Plot\n",
        "mosaic(titanic_table,\n",
        "       labeling = labeling_values,   # Show actual frequencies\n",
        "       main = \"Mosaic Plot: Titanic Survival by Sex, Class, and Survival Status\"\n",
        ")\n"
      ],
      "metadata": {
        "id": "_d9DbmUHp5cx"
      },
      "execution_count": null,
      "outputs": []
    },
    {
      "cell_type": "code",
      "source": [
        "devtools::load_all()"
      ],
      "metadata": {
        "id": "cP6crUd1MQYg"
      },
      "execution_count": null,
      "outputs": []
    },
    {
      "cell_type": "code",
      "source": [
        "library(datasets)\n",
        "data(\"Titanic\")\n",
        "titanic_df = as.data.frame(Titanic)\n",
        "agg_counts = aggregate(Freq ~ Sex + Class + Survived+Age, data = titanic_df, sum)\n",
        "print(agg_counts)"
      ],
      "metadata": {
        "id": "1bGIz7xTvKpY"
      },
      "execution_count": null,
      "outputs": []
    },
    {
      "cell_type": "markdown",
      "source": [
        "# Titanic Survival Report\n",
        "### Analyzing Gender and Class Differences\n",
        "The Titanic dataset shows a strong relationship between survival, gender, and passenger class. When looking at female passengers, survival rates were significantly higher, especially among those in higher classes. In 1st class, 141 out of 145 women survived, which is about 97%. In 2nd class, 93 out of 106 women survived, roughly 88%. Even in 3rd class, where survival was generally lower, 90 out of 196 women made it — around 46%. Among the 23 female crew members, 20 survived, showing an 87% survival rate. These figures highlight that women, especially those in upper classes, were given priority during evacuation.\n",
        "In contrast, male passengers had much lower survival rates. In 1st class, only 62 out of 180 men survived — about 34%. The numbers dropped drastically in 2nd class, where just 25 out of 179 men survived, a survival rate of around 14%. In 3rd class, the largest group among male passengers, only 88 out of 510 survived — meaning 422 men lost their lives. Among the male crew, the largest group onboard with 862 members, only 192 survived, which is just 22%.\n",
        "These reveal a clear pattern: women, especially in higher socioeconomic classes, were more likely to survive the disaster. On the other hand, men, particularly those in lower classes or working as crew, faced much higher mortality. The results reflect the harsh realities of social structure during that time, as well as the strong influence of gender roles in emergency situations."
      ],
      "metadata": {
        "id": "EBAaBTLSwJCp"
      }
    },
    {
      "cell_type": "markdown",
      "source": [
        "# Scatterplot Matrix"
      ],
      "metadata": {
        "id": "rAR6nGzqKOxW"
      }
    },
    {
      "cell_type": "code",
      "source": [
        "install.packages(\"GGally\")\n",
        "library(GGally)\n",
        "ggpairs(iris,mapping = aes(color = Species))"
      ],
      "metadata": {
        "id": "zbY5Lk5ZKFpg"
      },
      "execution_count": null,
      "outputs": []
    },
    {
      "cell_type": "code",
      "source": [
        "dmultinom()"
      ],
      "metadata": {
        "id": "RcbWtWAYmzBR"
      },
      "execution_count": null,
      "outputs": []
    },
    {
      "cell_type": "code",
      "source": [
        "pairs(iris[-5],col=iris$Species,oma=c(3,3,8,15),main=\"Pairwise Scatterplot\")\n",
        "par(xpd=TRUE)\n",
        "legend(\"bottomright\",fill=unique(iris$Species),legend=c(levels(iris$Species)))"
      ],
      "metadata": {
        "id": "7KEAQ5KzlCrD"
      },
      "execution_count": null,
      "outputs": []
    },
    {
      "cell_type": "code",
      "source": [
        "## Another Way to do this\n",
        "pairs(iris[-5],col=iris$Species,oma = c(3,3,8,15), main = \"Pairwise Scatterplot\") # Here oma is Outer Margin\n",
        "par(xpd = TRUE)\n",
        "legend(\"bottomright\",fill = unique(iris$Species),legend=c(levels(iris$Species)))"
      ],
      "metadata": {
        "id": "RvFvyLtaN2JH"
      },
      "execution_count": null,
      "outputs": []
    }
  ]
}