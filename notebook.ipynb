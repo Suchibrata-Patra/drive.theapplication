{
 "cells": [
  {
   "cell_type": "code",
   "execution_count": null,
   "id": "61e5ccc4",
   "metadata": {},
   "outputs": [],
   "source": [
    "import pandas as pd\n",
    "import seaborn as sns\n",
    "import matplotlib.pyplot as plt\n",
    "from scipy.stats import ttest_ind\n",
    "import os\n",
    "\n",
    "# Load Excel file\n",
    "excel_path = r\"E:\\iron man\\Ktrans\\Categorized_ktrans_2.xlsx\"\n",
    "df = pd.read_excel(excel_path, engine='openpyxl')\n",
    "\n",
    "# Add readable group labels\n",
    "df[\"group\"] = df[\"label\"].map({1: \"TP\", 0: \"PsP\"})\n",
    "\n",
    "# Melt DataFrame for seaborn boxplot\n",
    "df_melted = df.melt(id_vars=[\"group\"], value_vars=['high', 'low', 'nec'], \n",
    "                    var_name=\"Feature\", value_name=\"Value\")\n",
    "\n",
    "# Initialize the plot\n",
    "plt.figure(figsize=(7, 6))\n",
    "sns.boxplot(\n",
    "    x=\"Feature\",\n",
    "    y=\"Value\",\n",
    "    hue=\"group\",\n",
    "    data=df_melted,\n",
    "    palette={\"TP\": \"#fffac8\", \"PsP\": \"#baffc9\"},\n",
    "    width=0.6\n",
    ")\n",
    "\n",
    "# Compute means for annotation\n",
    "grouped_means = df_melted.groupby(['Feature', 'group'])['Value'].mean().reset_index()\n",
    "\n",
    "# Centered mean plotting with bold text\n",
    "feature_order = ['high', 'low', 'nec']\n",
    "group_order = ['TP', 'PsP']\n",
    "width_offset = 0.2  # Half the width of the boxes\n",
    "\n",
    "for i, feature in enumerate(feature_order):\n",
    "    for j, group in enumerate(group_order):\n",
    "        mean_val = grouped_means[\n",
    "            (grouped_means['Feature'] == feature) & \n",
    "            (grouped_means['group'] == group)\n",
    "        ]['Value'].values[0]\n",
    "        \n",
    "        # Calculate x position based on group and feature\n",
    "        if group == \"TP\":\n",
    "            x_pos = i - width_offset / 2\n",
    "        else:\n",
    "            x_pos = i + width_offset / 2\n",
    "\n",
    "        # Plot red horizontal mean line\n",
    "        plt.plot([x_pos - 0.08, x_pos + 0.08], [mean_val, mean_val], color='red', lw=2.5, zorder=3)\n",
    "\n",
    "        # Add bold mean value\n",
    "        plt.text(x_pos, mean_val + 0.01, f'{mean_val:.2f}', \n",
    "                 ha='center', va='bottom', fontsize=10, fontweight='bold', color='black')\n",
    "\n",
    "# Perform t-tests and display p-values\n",
    "p_values_text = []\n",
    "for feature in feature_order:\n",
    "    tp_vals = df[df['label'] == 1][feature]\n",
    "    psp_vals = df[df['label'] == 0][feature]\n",
    "    t_stat, p_val = ttest_ind(tp_vals, psp_vals, equal_var=False)\n",
    "    p_values_text.append(f\"{feature}: p = {p_val:.3f}\")\n",
    "\n",
    "# Add p-values as text box\n",
    "p_text = \"\\n\".join(p_values_text)\n",
    "plt.gcf().text(0.95, 0.70, p_text, fontsize=10, va='top', ha='right',\n",
    "               bbox=dict(boxstyle=\"round,pad=0.5\", facecolor=\"white\", edgecolor=\"gray\"))\n",
    "\n",
    "# Final plot adjustments\n",
    "plt.title(\"Cluster of Ktrans\")\n",
    "plt.xlabel(\"Cluster\")\n",
    "plt.ylabel(\"Percentage of Pixels\")\n",
    "plt.legend(title=\"Group\", loc=\"upper right\")\n",
    "plt.tight_layout()\n",
    "\n",
    "# Save figure\n",
    "output_path = os.path.join(os.path.dirname(excel_path), \"Ktrans_boxplot_highres3.png\")\n",
    "plt.savefig(output_path, dpi=1000)\n",
    "\n",
    "plt.show()\n"
   ]
  }
 ],
 "metadata": {
  "kernelspec": {
   "display_name": "Python 3 (ipykernel)",
   "language": "python",
   "name": "python3"
  },
  "language_info": {
   "codemirror_mode": {
    "name": "ipython",
    "version": 3
   },
   "file_extension": ".py",
   "mimetype": "text/x-python",
   "name": "python",
   "nbconvert_exporter": "python",
   "pygments_lexer": "ipython3",
   "version": "3.7.0"
  },
  "varInspector": {
   "cols": {
    "lenName": 16,
    "lenType": 16,
    "lenVar": 40
   },
   "kernels_config": {
    "python": {
     "delete_cmd_postfix": "",
     "delete_cmd_prefix": "del ",
     "library": "var_list.py",
     "varRefreshCmd": "print(var_dic_list())"
    },
    "r": {
     "delete_cmd_postfix": ") ",
     "delete_cmd_prefix": "rm(",
     "library": "var_list.r",
     "varRefreshCmd": "cat(var_dic_list()) "
    }
   },
   "types_to_exclude": [
    "module",
    "function",
    "builtin_function_or_method",
    "instance",
    "_Feature"
   ],
   "window_display": false
  }
 },
 "nbformat": 4,
 "nbformat_minor": 5
}
